{
 "cells": [
  {
   "cell_type": "code",
   "execution_count": 1,
   "metadata": {
    "collapsed": true
   },
   "outputs": [],
   "source": [
    "from web3 import Web3, HTTPProvider\n",
    "from etherscan.accounts import Account\n",
    "from etherscan.contracts import Contract\n",
    "import json\n",
    "import pandas as pd\n",
    "import numpy as np"
   ]
  },
  {
   "cell_type": "code",
   "execution_count": 3,
   "metadata": {},
   "outputs": [
    {
     "name": "stdout",
     "output_type": "stream",
     "text": [
      "page 1 added\n",
      "Total number of transactions: 4655\n"
     ]
    }
   ],
   "source": [
    "web3 = Web3(HTTPProvider('https://mainnet.infura.io/H10eLeRZQOrGY8600d1Y'))\n",
    "address = \"0x960b236A07cf122663c4303350609A66A7B288C0\"\n",
    "with open('./api_key.json', mode='r') as key_file:\n",
    "    key = json.loads(key_file.read())['key']\n",
    "\n",
    "abi = json.loads(Contract(address=address, api_key=key).get_abi())\n",
    "contract = web3.eth.contract(address=address, abi=abi)\n",
    "\n",
    "account = Account(address=address, api_key=key)\n",
    "transactions = account.get_all_transactions(offset=10000, sort='asc', internal=True)"
   ]
  },
  {
   "cell_type": "code",
   "execution_count": 39,
   "metadata": {},
   "outputs": [],
   "source": [
    "data_frame = pd.DataFrame(transactions)\n",
    "data_frame = data_frame[(data_frame['isError'] != '1')]\n",
    "data_frame['datetime'] = pd.to_datetime(data_frame['timeStamp'], unit='s')\n",
    "data_frame['date'] = data_frame['datetime'].dt.date\n",
    "# data_frame['value'] = pd.to_numeric(data_frame['value'], errors='coerce').astype(np.uint64)\n",
    "data_frame['value'] = data_frame['value'].apply(lambda x: web3.fromWei(int(x), 'ether'))\n",
    "data_frame = data_frame[data_frame['value'] > 0]\n",
    "data_frame['blockNumber'] = data_frame['blockNumber'].apply(lambda x: int(x))\n",
    "data_group = data_frame.groupby('blockNumber')['value', 'isError'].sum()\n",
    "data_group['index'] = data_group.index"
   ]
  },
  {
   "cell_type": "code",
   "execution_count": 43,
   "metadata": {},
   "outputs": [],
   "source": [
    "labels = data_group['index'].as_matrix()\n",
    "min_label = labels.min()\n",
    "max_label = labels.max()\n",
    "labels = (labels - min_label) * 100 / (max_label - min_label)\n",
    "values = data_group['value'].as_matrix()\n",
    "cumulative_values = values.cumsum()\n",
    "total = values.sum()\n",
    "cumulative_values = cumulative_values * 100 / total"
   ]
  },
  {
   "cell_type": "code",
   "execution_count": 52,
   "metadata": {
    "collapsed": true
   },
   "outputs": [],
   "source": [
    "import matplotlib.pyplot as plt\n"
   ]
  },
  {
   "cell_type": "code",
   "execution_count": 60,
   "metadata": {},
   "outputs": [],
   "source": [
    "fig, ax = plt.subplots()\n",
    "\n",
    "high_line = [(0.8 * x + 20) for x in labels]\n",
    "low_line = [(10/8 * x - 25) if (10/8 * x - 25) > 0 else 0 for x in labels]\n",
    "top_line = [100 for x in labels]\n",
    "# Plot lines on graph\n",
    "l1, = ax.plot(labels, high_line, '#33CC14')\n",
    "l2, = ax.plot(labels, low_line, '#FFFF00')\n",
    "l3, = ax.plot(labels, cumulative_values)\n",
    "plt.fill_between(labels, top_line, high_line, alpha=1, color='#33CC14')\n",
    "plt.fill_between(labels, high_line, low_line, alpha=1, color='#FFFF00')\n",
    "plt.fill_between(labels, low_line, alpha=1, color='#FF0000')\n",
    "\n",
    "\n",
    "fig.savefig(\"picture.png\", bbox_inches='tight')"
   ]
  },
  {
   "cell_type": "code",
   "execution_count": null,
   "metadata": {
    "collapsed": true
   },
   "outputs": [],
   "source": []
  }
 ],
 "metadata": {
  "kernelspec": {
   "display_name": "Python 3",
   "language": "python",
   "name": "python3"
  },
  "language_info": {
   "codemirror_mode": {
    "name": "ipython",
    "version": 3
   },
   "file_extension": ".py",
   "mimetype": "text/x-python",
   "name": "python",
   "nbconvert_exporter": "python",
   "pygments_lexer": "ipython3",
   "version": "3.6.1"
  }
 },
 "nbformat": 4,
 "nbformat_minor": 2
}
